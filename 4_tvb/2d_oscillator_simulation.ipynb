{
 "cells": [
  {
   "cell_type": "code",
   "execution_count": null,
   "id": "de5147d6",
   "metadata": {},
   "outputs": [],
   "source": [
    "import sys\n",
    "from tvb.simulator.lab import *\n",
    "import scipy.stats\n",
    "import time\n",
    "import utils\n",
    "import numpy as np\n"
   ]
  },
  {
   "cell_type": "code",
   "execution_count": null,
   "id": "30f443b2",
   "metadata": {},
   "outputs": [],
   "source": [
    "import matplotlib.pyplot as plt\n",
    "%matplotlib inline"
   ]
  },
  {
   "cell_type": "code",
   "execution_count": null,
   "id": "0a9d63b6",
   "metadata": {},
   "outputs": [],
   "source": [
    "def run_sim(conn, cs, D, cv=3.0, dt=0.5, simlen=1e3):\n",
    "    sim = simulator.Simulator(\n",
    "        model=models.Generic2dOscillator(a=np.array([0.0])),\n",
    "        connectivity=conn,\n",
    "        coupling=coupling.Linear(a=np.array([cs])),\n",
    "        integrator=integrators.HeunStochastic(dt=dt, noise=noise.Additive(nsig=np.array([D]))),\n",
    "        monitors=(monitors.TemporalAverage(period=5.0),) # 200 Hz\n",
    "    )\n",
    "    sim.configure()\n",
    "    (t, y), = sim.run(simulation_length=simlen)\n",
    "    return t, y[:, 0, :, 0]"
   ]
  },
  {
   "cell_type": "code",
   "execution_count": null,
   "id": "0ea2d96c",
   "metadata": {},
   "outputs": [],
   "source": [
    "conn = connectivity.Connectivity.from_file()"
   ]
  },
  {
   "cell_type": "code",
   "execution_count": null,
   "id": "c0e62521",
   "metadata": {},
   "outputs": [],
   "source": [
    "tic = time.time()\n",
    "t, y = run_sim(conn, 6e-2, 5e-4, simlen=2*60e3)\n",
    "print(f'simulation took {time.time() - tic:.2f} seconds.')"
   ]
  },
  {
   "cell_type": "code",
   "execution_count": null,
   "id": "5e9bb9cd",
   "metadata": {},
   "outputs": [],
   "source": [
    "# create windows\n",
    "cs = []\n",
    "for i in range(int(t[-1]/1e3)):\n",
    "    cs.append(np.corrcoef(y[(t>(i*1e3))*(t<(1e3*(i+1)))].T))\n",
    "cs = np.array(cs)\n",
    "cs.shape"
   ]
  },
  {
   "cell_type": "code",
   "execution_count": null,
   "id": "4fd31193",
   "metadata": {},
   "outputs": [],
   "source": [
    "plt.figure(figsize=(10, 4))\n",
    "plt.subplot(121)\n",
    "plt.title('Structural connectivity')\n",
    "plt.imshow(conn.weights, cmap='binary', interpolation='none')\n",
    "plt.subplot(122)\n",
    "plt.title('Functional connectivity')\n",
    "plt.imshow(cs[2:].mean(axis=0), cmap='binary', interpolation='none')\n",
    "plt.show()"
   ]
  },
  {
   "cell_type": "code",
   "execution_count": null,
   "id": "feb79536",
   "metadata": {},
   "outputs": [],
   "source": [
    "ctx = cortex.Cortex.from_file()"
   ]
  },
  {
   "cell_type": "code",
   "execution_count": null,
   "id": "38c27f09",
   "metadata": {},
   "outputs": [],
   "source": [
    "ctx.region_mapping_data.connectivity = conn"
   ]
  },
  {
   "cell_type": "code",
   "execution_count": null,
   "id": "33943e30",
   "metadata": {},
   "outputs": [],
   "source": [
    "def plot_roi_corr_map(region_name):\n",
    "    roi = list(conn.ordered_labels).index(region_name)\n",
    "    cs_m = cs[2:].mean(axis=0)\n",
    "    region_indices = ctx.region_mapping\n",
    "    utils.multiview(ctx, cs_m[roi][region_indices], shaded=False, suptitle=region_name, figsize=(10, 5))"
   ]
  },
  {
   "cell_type": "code",
   "execution_count": null,
   "id": "29268508",
   "metadata": {},
   "outputs": [],
   "source": [
    "plot_roi_corr_map('rPCS') # lM1  rPCS rPFCVL rPCS"
   ]
  },
  {
   "cell_type": "code",
   "execution_count": null,
   "id": "5a182eed",
   "metadata": {},
   "outputs": [],
   "source": []
  }
 ],
 "metadata": {
  "kernelspec": {
   "display_name": "Python 3 (ipykernel)",
   "language": "python",
   "name": "python3"
  },
  "language_info": {
   "codemirror_mode": {
    "name": "ipython",
    "version": 3
   },
   "file_extension": ".py",
   "mimetype": "text/x-python",
   "name": "python",
   "nbconvert_exporter": "python",
   "pygments_lexer": "ipython3",
   "version": "3.10.4"
  }
 },
 "nbformat": 4,
 "nbformat_minor": 5
}
