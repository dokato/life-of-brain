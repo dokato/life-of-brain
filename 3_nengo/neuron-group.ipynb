{
 "cells": [
  {
   "cell_type": "code",
   "execution_count": 1,
   "id": "0a736eeb",
   "metadata": {},
   "outputs": [],
   "source": [
    "import numpy as np\n",
    "import matplotlib.pyplot as plt\n",
    "\n",
    "%matplotlib inline\n",
    "\n",
    "import nengo\n",
    "from nengo.dists import Choice, Uniform\n",
    "from nengo.utils.ensemble import tuning_curves"
   ]
  },
  {
   "cell_type": "code",
   "execution_count": 5,
   "id": "7aad407b",
   "metadata": {},
   "outputs": [],
   "source": [
    "# Create the network object to which we can add ensembles, connections, etc.\n",
    "model = nengo.Network(label=\"Many Neurons\")\n",
    "\n",
    "with model:\n",
    "    # Input stimulus to drive the neural ensemble - Input sine wave\n",
    "    stim = nengo.Node(lambda t: 2*np.sin(16 * t), label=\"input\")\n",
    "\n",
    "\n",
    "    # Ensemble with 100 LIF neurons\n",
    "    x = nengo.Ensemble(100, dimensions=1, max_rates=Uniform(100, 200))\n",
    "\n",
    "    # Connecting input stimulus to ensemble\n",
    "    nengo.Connection(stim, x)"
   ]
  },
  {
   "cell_type": "code",
   "execution_count": 6,
   "id": "810cd26e",
   "metadata": {},
   "outputs": [
    {
     "data": {
      "text/html": [
       "\n",
       "            <script type=\"text/javascript\" id=\"718f3666-53cd-4c0c-997b-be150df748a6\">\n",
       "            {\n",
       "                let req = new XMLHttpRequest();\n",
       "                req.addEventListener(\"load\", function() {\n",
       "                    if (this.status != 200 && this.response != 'OK') {\n",
       "                        let p = document.getElementById('718f3666-53cd-4c0c-997b-be150df748a6').parentNode;\n",
       "                        p.innerHTML +=\n",
       "                            'The nengo_gui.jupyter notebook server ' +\n",
       "                            'extension was not loaded. Please activate it ' +\n",
       "                            'with the following command:' +\n",
       "                            '<pre>jupyter serverextension enable ' +\n",
       "                            'nengo_gui.jupyter</pre>';\n",
       "                        p.classList.add('output_stderr');\n",
       "                    }\n",
       "                });\n",
       "                req.open('GET', './nengo/check', true);\n",
       "                req.send();\n",
       "            }\n",
       "            </script>\n",
       "        "
      ],
      "text/plain": [
       "<IPython.core.display.HTML object>"
      ]
     },
     "metadata": {},
     "output_type": "display_data"
    },
    {
     "data": {
      "application/vdom.v1+json": {
       "attributes": {
        "id": "db49cf07-d9f0-4940-bd66-dc5a0aabc412"
       },
       "children": [
        {
         "attributes": {
          "allowfullscreen": "allowfullscreen",
          "class": "cell",
          "frameborder": "0",
          "height": "600",
          "src": "./nengo/51650/?token=56b6c8387a3014ff6409ec0e10140b88383d9ac5ebeb3728",
          "style": {
           "border": "1px solid #eee",
           "boxSizing": "border-box"
          },
          "width": "100%"
         },
         "tagName": "iframe"
        }
       ],
       "tagName": "div"
      },
      "text/html": [
       "\n",
       "                <div id=\"22a68f33-2335-4d6f-9d33-c9ba6525490d\">\n",
       "                    <iframe\n",
       "                        src=\"./nengo/51650/?token=56b6c8387a3014ff6409ec0e10140b88383d9ac5ebeb3728\"\n",
       "                        width=\"100%\"\n",
       "                        height=\"600\"\n",
       "                        frameborder=\"0\"\n",
       "                        class=\"cell\"\n",
       "                        style=\"border: 1px solid #eee; box-sizing: border-box;\"\n",
       "                        allowfullscreen></iframe>\n",
       "                </div>\n",
       "            "
      ]
     },
     "metadata": {},
     "output_type": "display_data"
    }
   ],
   "source": [
    "from nengo_gui.ipython import InlineGUI\n",
    "InlineGUI(model)"
   ]
  },
  {
   "cell_type": "code",
   "execution_count": null,
   "id": "9c8f8016",
   "metadata": {},
   "outputs": [],
   "source": []
  }
 ],
 "metadata": {
  "kernelspec": {
   "display_name": "Python 3 (ipykernel)",
   "language": "python",
   "name": "python3"
  },
  "language_info": {
   "codemirror_mode": {
    "name": "ipython",
    "version": 3
   },
   "file_extension": ".py",
   "mimetype": "text/x-python",
   "name": "python",
   "nbconvert_exporter": "python",
   "pygments_lexer": "ipython3",
   "version": "3.10.4"
  }
 },
 "nbformat": 4,
 "nbformat_minor": 5
}
