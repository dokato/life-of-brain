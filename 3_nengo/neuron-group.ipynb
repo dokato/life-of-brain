{
 "cells": [
  {
   "cell_type": "code",
   "execution_count": 1,
   "id": "0a736eeb",
   "metadata": {},
   "outputs": [],
   "source": [
    "import numpy as np\n",
    "import matplotlib.pyplot as plt\n",
    "\n",
    "%matplotlib inline\n",
    "\n",
    "import nengo\n",
    "from nengo.dists import Choice, Uniform\n",
    "from nengo.utils.ensemble import tuning_curves"
   ]
  },
  {
   "cell_type": "code",
   "execution_count": 2,
   "id": "7aad407b",
   "metadata": {},
   "outputs": [],
   "source": [
    "# Create the network object to which we can add ensembles, connections, etc.\n",
    "model = nengo.Network(label=\"Many Neurons\")\n",
    "\n",
    "with model:\n",
    "    # Input stimulus to drive the neural ensemble - Input sine wave\n",
    "    stim = nengo.Node(lambda t: np.sin(16 * t), label=\"input\")\n",
    "\n",
    "    # Ensemble with 100 LIF neurons\n",
    "    x = nengo.Ensemble(100, dimensions=1, max_rates=Uniform(100, 200))\n",
    "\n",
    "    # Connecting input stimulus to ensemble\n",
    "    nengo.Connection(stim, x)"
   ]
  },
  {
   "cell_type": "code",
   "execution_count": 3,
   "id": "7bc0bd6a",
   "metadata": {},
   "outputs": [],
   "source": [
    "#jupyter serverextension enable nengo_gui.jupyter"
   ]
  },
  {
   "cell_type": "code",
   "execution_count": 5,
   "id": "810cd26e",
   "metadata": {},
   "outputs": [
    {
     "data": {
      "text/html": [
       "\n",
       "            <script type=\"text/javascript\" id=\"b9e0ba6b-09c3-418d-beba-58270a1dec72\">\n",
       "            {\n",
       "                let req = new XMLHttpRequest();\n",
       "                req.addEventListener(\"load\", function() {\n",
       "                    if (this.status != 200 && this.response != 'OK') {\n",
       "                        let p = document.getElementById('b9e0ba6b-09c3-418d-beba-58270a1dec72').parentNode;\n",
       "                        p.innerHTML +=\n",
       "                            'The nengo_gui.jupyter notebook server ' +\n",
       "                            'extension was not loaded. Please activate it ' +\n",
       "                            'with the following command:' +\n",
       "                            '<pre>jupyter serverextension enable ' +\n",
       "                            'nengo_gui.jupyter</pre>';\n",
       "                        p.classList.add('output_stderr');\n",
       "                    }\n",
       "                });\n",
       "                req.open('GET', './nengo/check', true);\n",
       "                req.send();\n",
       "            }\n",
       "            </script>\n",
       "        "
      ],
      "text/plain": [
       "<IPython.core.display.HTML object>"
      ]
     },
     "metadata": {},
     "output_type": "display_data"
    },
    {
     "data": {
      "application/vdom.v1+json": {
       "attributes": {
        "id": "98e3162d-9fe5-4f03-b4f2-e1ce73d27c84"
       },
       "children": [
        {
         "attributes": {
          "allowfullscreen": "allowfullscreen",
          "class": "cell",
          "frameborder": "0",
          "height": "600",
          "src": "./nengo/50095/?token=936cf38efd2e39c66516006f58daf0b7b45b23d204b724fb",
          "style": {
           "border": "1px solid #eee",
           "boxSizing": "border-box"
          },
          "width": "100%"
         },
         "tagName": "iframe"
        }
       ],
       "tagName": "div"
      },
      "text/html": [
       "\n",
       "                <div id=\"989b5cd1-7d5c-4eac-85f5-dfa3f915293b\">\n",
       "                    <iframe\n",
       "                        src=\"./nengo/50095/?token=936cf38efd2e39c66516006f58daf0b7b45b23d204b724fb\"\n",
       "                        width=\"100%\"\n",
       "                        height=\"600\"\n",
       "                        frameborder=\"0\"\n",
       "                        class=\"cell\"\n",
       "                        style=\"border: 1px solid #eee; box-sizing: border-box;\"\n",
       "                        allowfullscreen></iframe>\n",
       "                </div>\n",
       "            "
      ]
     },
     "metadata": {},
     "output_type": "display_data"
    }
   ],
   "source": [
    "from nengo_gui.ipython import InlineGUI\n",
    "InlineGUI(model)"
   ]
  },
  {
   "cell_type": "code",
   "execution_count": null,
   "id": "9c8f8016",
   "metadata": {},
   "outputs": [],
   "source": []
  }
 ],
 "metadata": {
  "kernelspec": {
   "display_name": "Python 3 (ipykernel)",
   "language": "python",
   "name": "python3"
  },
  "language_info": {
   "codemirror_mode": {
    "name": "ipython",
    "version": 3
   },
   "file_extension": ".py",
   "mimetype": "text/x-python",
   "name": "python",
   "nbconvert_exporter": "python",
   "pygments_lexer": "ipython3",
   "version": "3.10.4"
  }
 },
 "nbformat": 4,
 "nbformat_minor": 5
}
