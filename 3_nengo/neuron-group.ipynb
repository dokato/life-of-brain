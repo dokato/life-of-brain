{
 "cells": [
  {
   "cell_type": "code",
   "execution_count": null,
   "id": "0a736eeb",
   "metadata": {},
   "outputs": [],
   "source": [
    "import nengo\n",
    "from nengo.dists import Choice, Uniform\n",
    "from nengo.utils.ensemble import tuning_curves"
   ]
  },
  {
   "cell_type": "code",
   "execution_count": null,
   "id": "7aad407b",
   "metadata": {},
   "outputs": [],
   "source": [
    "# Create the network object to which we can add ensembles, connections, etc.\n",
    "model = nengo.Network(label=\"Many Neurons\")\n",
    "\n",
    "with model:\n",
    "    # Input stimulus to drive the neural ensemble - Input sine wave\n",
    "    stim = nengo.Node(lambda t: np.sin(16 * t), label=\"input\")\n",
    "\n",
    "    # Ensemble with 100 LIF neurons\n",
    "    x = nengo.Ensemble(100, dimensions=1, max_rates=Uniform(100, 200))\n",
    "\n",
    "    # Connecting input stimulus to ensemble\n",
    "    nengo.Connection(stim, x)"
   ]
  },
  {
   "cell_type": "code",
   "execution_count": null,
   "id": "7bc0bd6a",
   "metadata": {},
   "outputs": [],
   "source": [
    "#jupyter serverextension enable nengo_gui.jupyter"
   ]
  },
  {
   "cell_type": "code",
   "execution_count": null,
   "id": "810cd26e",
   "metadata": {},
   "outputs": [],
   "source": [
    "from nengo_gui.ipython import InlineGUI\n",
    "InlineGUI(model)"
   ]
  },
  {
   "cell_type": "code",
   "execution_count": null,
   "id": "9c8f8016",
   "metadata": {},
   "outputs": [],
   "source": []
  }
 ],
 "metadata": {
  "kernelspec": {
   "display_name": "Python 3 (ipykernel)",
   "language": "python",
   "name": "python3"
  },
  "language_info": {
   "codemirror_mode": {
    "name": "ipython",
    "version": 3
   },
   "file_extension": ".py",
   "mimetype": "text/x-python",
   "name": "python",
   "nbconvert_exporter": "python",
   "pygments_lexer": "ipython3",
   "version": "3.10.4"
  }
 },
 "nbformat": 4,
 "nbformat_minor": 5
}
